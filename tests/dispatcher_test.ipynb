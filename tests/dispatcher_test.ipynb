{
 "cells": [
  {
   "cell_type": "code",
   "execution_count": 48,
   "metadata": {},
   "outputs": [],
   "source": [
    "from langhuan.flask_starter import Dispatcher"
   ]
  },
  {
   "cell_type": "markdown",
   "metadata": {},
   "source": [
    "## Single user"
   ]
  },
  {
   "cell_type": "code",
   "execution_count": 10,
   "metadata": {},
   "outputs": [],
   "source": [
    "import unittest"
   ]
  },
  {
   "cell_type": "code",
   "execution_count": 43,
   "metadata": {},
   "outputs": [],
   "source": [
    "class dispatcher(unittest.TestCase):\n",
    "    def test_single_user(self,):\n",
    "        dispatcher = Dispatcher(n=10, v=10)\n",
    "        result = dict()\n",
    "        for i in range(11):\n",
    "            i1 = dispatcher[1]\n",
    "            result.update({f\"step_{i}\": i1})\n",
    "            dispatcher.finish_update(1, index=i1)\n",
    "        expect = {'step_0': 0,\n",
    "                   'step_1': 1,\n",
    "                   'step_2': 2,\n",
    "                   'step_3': 3,\n",
    "                   'step_4': 4,\n",
    "                   'step_5': 5,\n",
    "                   'step_6': 6,\n",
    "                   'step_7': 7,\n",
    "                   'step_8': 8,\n",
    "                   'step_9': 9,\n",
    "                   'step_10': -1}\n",
    "        self.assertEqual(result, expect)\n",
    "\n",
    "    def test_nb_user_less_than_v(self):\n",
    "        dispatcher = Dispatcher(n=10, v=10)\n",
    "        result = dict()\n",
    "        for i in range(7):\n",
    "            i1, i2, i3 = dispatcher[1], dispatcher[2], dispatcher[3]\n",
    "            result.update({f\"step_{i}\": [i1, i2, i3]})\n",
    "            dispatcher.finish_update(1, index=i1)\n",
    "            dispatcher.finish_update(3, index=i3)\n",
    "        expected = {'step_0': [0, 0, 0],\n",
    "                    'step_1': [1, 0, 1],\n",
    "                    'step_2': [2, 0, 2],\n",
    "                    'step_3': [3, 0, 3],\n",
    "                    'step_4': [4, 0, 4],\n",
    "                    'step_5': [5, 0, 5],\n",
    "                    'step_6': [6, 0, 6]}\n",
    "        self.assertEqual(result, expected)"
   ]
  },
  {
   "cell_type": "code",
   "execution_count": 44,
   "metadata": {},
   "outputs": [
    {
     "name": "stderr",
     "output_type": "stream",
     "text": [
      ".."
     ]
    },
    {
     "name": "stdout",
     "output_type": "stream",
     "text": [
      "finish: user:1 index:0\n",
      "finish: user:3 index:0\n",
      "finish: user:1 index:1\n",
      "finish: user:3 index:1\n",
      "finish: user:1 index:2\n",
      "finish: user:3 index:2\n",
      "finish: user:1 index:3\n",
      "finish: user:3 index:3\n",
      "finish: user:1 index:4\n",
      "finish: user:3 index:4\n",
      "finish: user:1 index:5\n",
      "finish: user:3 index:5\n",
      "finish: user:1 index:6\n",
      "finish: user:3 index:6\n",
      "finish: user:1 index:0\n",
      "finish: user:1 index:1\n",
      "finish: user:1 index:2\n",
      "finish: user:1 index:3\n",
      "finish: user:1 index:4\n",
      "finish: user:1 index:5\n",
      "finish: user:1 index:6\n",
      "finish: user:1 index:7\n",
      "finish: user:1 index:8\n",
      "finish: user:1 index:9\n",
      "finish: user:1 index:-1\n"
     ]
    },
    {
     "name": "stderr",
     "output_type": "stream",
     "text": [
      "\n",
      "----------------------------------------------------------------------\n",
      "Ran 2 tests in 0.004s\n",
      "\n",
      "OK\n"
     ]
    }
   ],
   "source": [
    "ran = unittest.main(argv=['first-arg-is-ignored'], exit=False)"
   ]
  },
  {
   "cell_type": "code",
   "execution_count": 45,
   "metadata": {},
   "outputs": [
    {
     "name": "stdout",
     "output_type": "stream",
     "text": [
      "finish: user:1 index:0\n",
      "finish: user:2 index:0\n",
      "finish: user:3 index:0\n",
      "finish: user:1 index:1\n",
      "finish: user:2 index:1\n",
      "finish: user:3 index:1\n",
      "finish: user:1 index:2\n",
      "finish: user:2 index:2\n",
      "finish: user:3 index:2\n",
      "finish: user:1 index:3\n",
      "finish: user:2 index:3\n",
      "finish: user:3 index:3\n",
      "finish: user:1 index:4\n",
      "finish: user:2 index:4\n",
      "finish: user:3 index:4\n",
      "finish: user:1 index:5\n",
      "finish: user:2 index:5\n",
      "finish: user:3 index:5\n",
      "finish: user:1 index:6\n",
      "finish: user:2 index:6\n",
      "finish: user:3 index:6\n"
     ]
    },
    {
     "data": {
      "text/plain": [
       "{'step_0': [0, 0, 0],\n",
       " 'step_1': [1, 1, 1],\n",
       " 'step_2': [2, 2, 2],\n",
       " 'step_3': [3, 3, 3],\n",
       " 'step_4': [4, 4, 4],\n",
       " 'step_5': [5, 5, 5],\n",
       " 'step_6': [6, 6, 6]}"
      ]
     },
     "execution_count": 45,
     "metadata": {},
     "output_type": "execute_result"
    }
   ],
   "source": [
    "dispatcher = Dispatcher(n=10,v=10)\n",
    "result = dict()\n",
    "for i in range(7):\n",
    "    i1, i2, i3 = dispatcher[1],dispatcher[2],dispatcher[3]\n",
    "    result.update({f\"step_{i}\":[i1, i2, i3]})\n",
    "    dispatcher.finish_update(1, index = i1)\n",
    "    dispatcher.finish_update(2, index = i2)\n",
    "    dispatcher.finish_update(3, index = i3)\n",
    "result"
   ]
  },
  {
   "cell_type": "code",
   "execution_count": 46,
   "metadata": {},
   "outputs": [
    {
     "name": "stdout",
     "output_type": "stream",
     "text": [
      "finish: user:2 index:0\n",
      "finish: user:3 index:1\n",
      "finish: user:1 index:0\n",
      "finish: user:3 index:2\n",
      "finish: user:1 index:2\n",
      "finish: user:2 index:1\n",
      "finish: user:2 index:3\n",
      "finish: user:3 index:3\n",
      "finish: user:1 index:3\n",
      "finish: user:3 index:4\n",
      "finish: user:1 index:5\n",
      "finish: user:2 index:4\n",
      "finish: user:2 index:6\n",
      "finish: user:3 index:5\n",
      "finish: user:1 index:6\n",
      "finish: user:3 index:7\n",
      "finish: user:1 index:8\n",
      "finish: user:2 index:7\n",
      "finish: user:2 index:9\n",
      "finish: user:3 index:8\n",
      "finish: user:1 index:9\n",
      "finish: user:3 index:-1\n",
      "finish: user:1 index:-1\n",
      "finish: user:2 index:-1\n"
     ]
    },
    {
     "data": {
      "text/plain": [
       "{'step_0': [0, 0, 1],\n",
       " 'step_1': [0, 1, 2],\n",
       " 'step_2': [2, 1, 3],\n",
       " 'step_3': [3, 3, 3],\n",
       " 'step_4': [3, 4, 4],\n",
       " 'step_5': [5, 4, 5],\n",
       " 'step_6': [6, 6, 5],\n",
       " 'step_7': [6, 7, 7],\n",
       " 'step_8': [8, 7, 8],\n",
       " 'step_9': [9, 9, 8],\n",
       " 'step_10': [9, -1, -1],\n",
       " 'step_11': [-1, -1, -1]}"
      ]
     },
     "execution_count": 46,
     "metadata": {},
     "output_type": "execute_result"
    }
   ],
   "source": [
    "dispatcher = Dispatcher(n=10,v=2)\n",
    "result = dict()\n",
    "for i in range(12):\n",
    "    i1, i2, i3 = dispatcher[1],dispatcher[2],dispatcher[3]\n",
    "    result.update({f\"step_{i}\":[i1, i2, i3]})\n",
    "    if i%3!=0: dispatcher.finish_update(1, index = i1)\n",
    "    if i%3!=1: dispatcher.finish_update(2, index = i2)\n",
    "    if i%3!=2: dispatcher.finish_update(3, index = i3)\n",
    "result"
   ]
  },
  {
   "cell_type": "code",
   "execution_count": 47,
   "metadata": {},
   "outputs": [
    {
     "name": "stdout",
     "output_type": "stream",
     "text": [
      "finish: user:0 index:0\n",
      "finish: user:1 index:1\n",
      "finish: user:1 index:3\n"
     ]
    },
    {
     "data": {
      "text/plain": [
       "{'step_0': [0, 1],\n",
       " 'step_1': [0, 1],\n",
       " 'step_2': [0, 1],\n",
       " 'step_3': [2, 1],\n",
       " 'step_4': [2, 1],\n",
       " 'step_5': [2, 3],\n",
       " 'step_6': [2, 4],\n",
       " 'step_7': [2, 4],\n",
       " 'step_8': [2, 4],\n",
       " 'step_9': [2, 4]}"
      ]
     },
     "execution_count": 47,
     "metadata": {},
     "output_type": "execute_result"
    }
   ],
   "source": [
    "dispatcher = Dispatcher(10,1)\n",
    "result = dict()\n",
    "for i in range(10):\n",
    "    if i ==3:\n",
    "        dispatcher.finish_update(user_id=0, index=0)\n",
    "    if i ==5:\n",
    "        dispatcher.finish_update(user_id=1, index=1)\n",
    "    if i ==6:\n",
    "        dispatcher.finish_update(user_id=1, index=3)\n",
    "    result.update({f\"step_{i}\":[dispatcher[0],dispatcher[1]]})\n",
    "result"
   ]
  },
  {
   "cell_type": "code",
   "execution_count": null,
   "metadata": {},
   "outputs": [],
   "source": []
  }
 ],
 "metadata": {
  "kernelspec": {
   "display_name": "Python 3",
   "language": "python",
   "name": "python3"
  },
  "language_info": {
   "codemirror_mode": {
    "name": "ipython",
    "version": 3
   },
   "file_extension": ".py",
   "mimetype": "text/x-python",
   "name": "python",
   "nbconvert_exporter": "python",
   "pygments_lexer": "ipython3",
   "version": "3.7.4"
  },
  "toc": {
   "base_numbering": 1,
   "nav_menu": {},
   "number_sections": true,
   "sideBar": true,
   "skip_h1_title": false,
   "title_cell": "Table of Contents",
   "title_sidebar": "Contents",
   "toc_cell": false,
   "toc_position": {},
   "toc_section_display": true,
   "toc_window_display": false
  }
 },
 "nbformat": 4,
 "nbformat_minor": 4
}
