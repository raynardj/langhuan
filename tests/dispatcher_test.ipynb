{
 "cells": [
  {
   "cell_type": "code",
   "execution_count": 1,
   "metadata": {},
   "outputs": [],
   "source": [
    "import logging"
   ]
  },
  {
   "cell_type": "code",
   "execution_count": 2,
   "metadata": {},
   "outputs": [],
   "source": [
    "import unittest"
   ]
  },
  {
   "cell_type": "code",
   "execution_count": 49,
   "metadata": {},
   "outputs": [],
   "source": [
    "class Dispatcher:\n",
    "    def __init__(self, n, v):\n",
    "        self.n = n\n",
    "        self.v = v\n",
    "        self.cache_data = dict()\n",
    "        self.new = list(range(n))\n",
    "        self.processing = dict()\n",
    "        \n",
    "    def __repr__(self):\n",
    "        return f\"Job Dispatcher: n:{self.n},v{self.v}\"\n",
    "        \n",
    "    def __getitem__(self, user_id):\n",
    "        if user_id in self.cache_data:\n",
    "            return self.cache_data[user_id]\n",
    "        else:\n",
    "            for k, v in self.processing.items():\n",
    "                if len(self.processing[k]) >= self.v:\n",
    "                    continue\n",
    "                if user_id in v:\n",
    "                    continue\n",
    "                else:\n",
    "                    v.append(user_id)\n",
    "                    self.cache_data[user_id] = k\n",
    "                    return k\n",
    "\n",
    "        # read_new\n",
    "        if len(self.new)>0:\n",
    "            item = self.new[0]\n",
    "            self.processing[item] = []\n",
    "            self.new.remove(item)\n",
    "            return self[user_id]\n",
    "        else:\n",
    "            return -1\n",
    "    \n",
    "    def finish_update(self, user_id, index):\n",
    "        if user_id in self.cache_data:\n",
    "            del self.cache_data[user_id]\n",
    "        if index in self.processing:\n",
    "            if len(self.processing[index]) >= self.v:\n",
    "                del self.processing[index]\n",
    "        "
   ]
  },
  {
   "cell_type": "code",
   "execution_count": 50,
   "metadata": {},
   "outputs": [],
   "source": [
    "# from langhuan.progress import Dispatcher"
   ]
  },
  {
   "cell_type": "code",
   "execution_count": 51,
   "metadata": {},
   "outputs": [],
   "source": [
    "logger = logging.getLogger()\n",
    "logger.setLevel(logging.DEBUG)"
   ]
  },
  {
   "cell_type": "code",
   "execution_count": 52,
   "metadata": {},
   "outputs": [],
   "source": [
    "class DispatcherTest(unittest.TestCase):\n",
    "    def test_single_user(self,):\n",
    "        dispatcher = Dispatcher(n=10, v=10)\n",
    "        result = dict()\n",
    "        for i in range(11):\n",
    "            i1 = dispatcher[1]\n",
    "            result.update({f\"step_{i}\": i1})\n",
    "            dispatcher.finish_update(1, index=i1)\n",
    "        expect = {'step_0': 0,\n",
    "                  'step_1': 1,\n",
    "                  'step_2': 2,\n",
    "                  'step_3': 3,\n",
    "                  'step_4': 4,\n",
    "                  'step_5': 5,\n",
    "                  'step_6': 6,\n",
    "                  'step_7': 7,\n",
    "                  'step_8': 8,\n",
    "                  'step_9': 9,\n",
    "                  'step_10': -1}\n",
    "        self.assertEqual(result, expect)\n",
    "\n",
    "    def test_nb_user_less_than_v(self):\n",
    "        dispatcher = Dispatcher(n=10, v=10)\n",
    "        result = dict()\n",
    "        for i in range(7):\n",
    "            i1, i2, i3 = dispatcher[1], dispatcher[2], dispatcher[3]\n",
    "            result.update({f\"step_{i}\": [i1, i2, i3]})\n",
    "            dispatcher.finish_update(1, index=i1)\n",
    "            dispatcher.finish_update(3, index=i3)\n",
    "\n",
    "        expected = {'step_0': [0, 0, 0],\n",
    "                    'step_1': [1, 0, 1],\n",
    "                    'step_2': [2, 0, 2],\n",
    "                    'step_3': [3, 0, 3],\n",
    "                    'step_4': [4, 0, 4],\n",
    "                    'step_5': [5, 0, 5],\n",
    "                    'step_6': [6, 0, 6]}\n",
    "        self.assertEqual(result, expected)\n",
    "\n",
    "    def test_nb_user_lg_than_v(self):\n",
    "        dispatcher = Dispatcher(n=10, v=2)\n",
    "        result = dict()\n",
    "        for i in range(12):\n",
    "            i1, i2, i3 = dispatcher[1], dispatcher[2], dispatcher[3]\n",
    "#             logging.debug(f\"{i1}, {i2}, {i3}\")\n",
    "            result.update({f\"step_{i}\": [i1, i2, i3]})\n",
    "            if i % 3 != 0:\n",
    "                dispatcher.finish_update(1, index=i1)\n",
    "            if i % 3 != 1:\n",
    "                dispatcher.finish_update(2, index=i2)\n",
    "            if i % 3 != 2:\n",
    "                dispatcher.finish_update(3, index=i3)\n",
    "        print(result)\n",
    "        expected = {\n",
    "            'step_0': [0, 0, 1],\n",
    "            'step_1': [0, 1, 2],\n",
    "            'step_2': [2, 1, 3],\n",
    "            'step_3': [3, 4, 3],\n",
    "            'step_4': [3, 5, 4],\n",
    "            'step_5': [5, 5, 6],\n",
    "            'step_6': [6, 7, 6],\n",
    "            'step_7': [6, 8, 7],\n",
    "            'step_8': [8, 8, 9],\n",
    "            'step_9': [9, -1, 9],\n",
    "            'step_10': [9, -1, -1],\n",
    "            'step_11': [-1, -1, -1]}\n",
    "\n",
    "        self.assertEqual(result, expected)"
   ]
  },
  {
   "cell_type": "code",
   "execution_count": 53,
   "metadata": {},
   "outputs": [
    {
     "name": "stderr",
     "output_type": "stream",
     "text": [
      "..."
     ]
    },
    {
     "name": "stdout",
     "output_type": "stream",
     "text": [
      "{'step_0': [0, 0, 1], 'step_1': [0, 1, 2], 'step_2': [2, 1, 3], 'step_3': [3, 4, 3], 'step_4': [3, 5, 4], 'step_5': [5, 5, 6], 'step_6': [6, 7, 6], 'step_7': [6, 8, 7], 'step_8': [8, 8, 9], 'step_9': [9, -1, 9], 'step_10': [9, -1, -1], 'step_11': [-1, -1, -1]}\n"
     ]
    },
    {
     "name": "stderr",
     "output_type": "stream",
     "text": [
      "\n",
      "----------------------------------------------------------------------\n",
      "Ran 3 tests in 0.008s\n",
      "\n",
      "OK\n"
     ]
    }
   ],
   "source": [
    "ran = unittest.main(argv=['first-arg-is-ignored'], exit=False)"
   ]
  },
  {
   "cell_type": "code",
   "execution_count": null,
   "metadata": {},
   "outputs": [],
   "source": []
  }
 ],
 "metadata": {
  "kernelspec": {
   "display_name": "Python 3",
   "language": "python",
   "name": "python3"
  },
  "language_info": {
   "codemirror_mode": {
    "name": "ipython",
    "version": 3
   },
   "file_extension": ".py",
   "mimetype": "text/x-python",
   "name": "python",
   "nbconvert_exporter": "python",
   "pygments_lexer": "ipython3",
   "version": "3.7.4"
  },
  "toc": {
   "base_numbering": 1,
   "nav_menu": {},
   "number_sections": true,
   "sideBar": true,
   "skip_h1_title": false,
   "title_cell": "Table of Contents",
   "title_sidebar": "Contents",
   "toc_cell": false,
   "toc_position": {},
   "toc_section_display": true,
   "toc_window_display": false
  }
 },
 "nbformat": 4,
 "nbformat_minor": 4
}
