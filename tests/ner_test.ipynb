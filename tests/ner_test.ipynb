{
 "cells": [
  {
   "cell_type": "code",
   "execution_count": 38,
   "metadata": {},
   "outputs": [],
   "source": [
    "from langhuan import NERTask\n",
    "from langhuan.utility import findall_word_position\n",
    "from forgebox.imports import *\n",
    "from sklearn.datasets import fetch_20newsgroups\n",
    "from uuid import uuid4\n",
    "import regex"
   ]
  },
  {
   "cell_type": "code",
   "execution_count": 2,
   "metadata": {},
   "outputs": [
    {
     "data": {
      "text/html": [
       "<div>\n",
       "<style scoped>\n",
       "    .dataframe tbody tr th:only-of-type {\n",
       "        vertical-align: middle;\n",
       "    }\n",
       "\n",
       "    .dataframe tbody tr th {\n",
       "        vertical-align: top;\n",
       "    }\n",
       "\n",
       "    .dataframe thead th {\n",
       "        text-align: right;\n",
       "    }\n",
       "</style>\n",
       "<table border=\"1\" class=\"dataframe\">\n",
       "  <thead>\n",
       "    <tr style=\"text-align: right;\">\n",
       "      <th></th>\n",
       "      <th>text</th>\n",
       "    </tr>\n",
       "  </thead>\n",
       "  <tbody>\n",
       "    <tr>\n",
       "      <td>0</td>\n",
       "      <td>From: lerxst@wam.umd.edu (where's my thing)\\nS...</td>\n",
       "    </tr>\n",
       "    <tr>\n",
       "      <td>1</td>\n",
       "      <td>From: guykuo@carson.u.washington.edu (Guy Kuo)...</td>\n",
       "    </tr>\n",
       "    <tr>\n",
       "      <td>2</td>\n",
       "      <td>From: twillis@ec.ecn.purdue.edu (Thomas E Will...</td>\n",
       "    </tr>\n",
       "    <tr>\n",
       "      <td>3</td>\n",
       "      <td>From: jgreen@amber (Joe Green)\\nSubject: Re: W...</td>\n",
       "    </tr>\n",
       "    <tr>\n",
       "      <td>4</td>\n",
       "      <td>From: jcm@head-cfa.harvard.edu (Jonathan McDow...</td>\n",
       "    </tr>\n",
       "  </tbody>\n",
       "</table>\n",
       "</div>"
      ],
      "text/plain": [
       "                                                text\n",
       "0  From: lerxst@wam.umd.edu (where's my thing)\\nS...\n",
       "1  From: guykuo@carson.u.washington.edu (Guy Kuo)...\n",
       "2  From: twillis@ec.ecn.purdue.edu (Thomas E Will...\n",
       "3  From: jgreen@amber (Joe Green)\\nSubject: Re: W...\n",
       "4  From: jcm@head-cfa.harvard.edu (Jonathan McDow..."
      ]
     },
     "execution_count": 2,
     "metadata": {},
     "output_type": "execute_result"
    }
   ],
   "source": [
    "news20 = fetch_20newsgroups()\n",
    "df = pd.DataFrame(dict(text=news20['data']))\n",
    "df.head()"
   ]
  },
  {
   "cell_type": "code",
   "execution_count": 3,
   "metadata": {},
   "outputs": [],
   "source": [
    "def word_finder(kw, label):\n",
    "    def get_tags(text):\n",
    "        tags = []\n",
    "        for offset in findall_word_position(text, kw):\n",
    "            tags.append(dict(\n",
    "                text=text[offset:offset+len(kw)],\n",
    "                label=label,\n",
    "                offset=offset\n",
    "            ))\n",
    "        return dict(tags=tags, preset=\"preset\")\n",
    "    return get_tags"
   ]
  },
  {
   "cell_type": "markdown",
   "metadata": {},
   "source": [
    "## Set extra unique id"
   ]
  },
  {
   "cell_type": "code",
   "execution_count": 4,
   "metadata": {},
   "outputs": [],
   "source": [
    "df[\"special_id\"] = list(str(uuid4()) for uid in range(len(df)))\n",
    "df = df.set_index(\"special_id\")"
   ]
  },
  {
   "cell_type": "markdown",
   "metadata": {},
   "source": [
    "## Preset some tags"
   ]
  },
  {
   "cell_type": "code",
   "execution_count": 5,
   "metadata": {},
   "outputs": [],
   "source": [
    "df[\"guess\"] = df.text.apply(word_finder(\"university\",\"institution\"))"
   ]
  },
  {
   "cell_type": "code",
   "execution_count": 6,
   "metadata": {},
   "outputs": [
    {
     "data": {
      "text/html": [
       "<div>\n",
       "<style scoped>\n",
       "    .dataframe tbody tr th:only-of-type {\n",
       "        vertical-align: middle;\n",
       "    }\n",
       "\n",
       "    .dataframe tbody tr th {\n",
       "        vertical-align: top;\n",
       "    }\n",
       "\n",
       "    .dataframe thead th {\n",
       "        text-align: right;\n",
       "    }\n",
       "</style>\n",
       "<table border=\"1\" class=\"dataframe\">\n",
       "  <thead>\n",
       "    <tr style=\"text-align: right;\">\n",
       "      <th></th>\n",
       "      <th>text</th>\n",
       "      <th>guess</th>\n",
       "    </tr>\n",
       "    <tr>\n",
       "      <th>special_id</th>\n",
       "      <th></th>\n",
       "      <th></th>\n",
       "    </tr>\n",
       "  </thead>\n",
       "  <tbody>\n",
       "    <tr>\n",
       "      <td>f7ec2c6f-046a-469f-a18a-d4a0540af07b</td>\n",
       "      <td>From: lerxst@wam.umd.edu (where's my thing)\\nS...</td>\n",
       "      <td>{'tags': [{'text': 'University', 'label': 'ins...</td>\n",
       "    </tr>\n",
       "    <tr>\n",
       "      <td>4c2eecd7-39f4-4d7c-b586-a7c7803a74c0</td>\n",
       "      <td>From: guykuo@carson.u.washington.edu (Guy Kuo)...</td>\n",
       "      <td>{'tags': [{'text': 'University', 'label': 'ins...</td>\n",
       "    </tr>\n",
       "    <tr>\n",
       "      <td>a96d71fa-47d4-474a-b835-6078761865d7</td>\n",
       "      <td>From: twillis@ec.ecn.purdue.edu (Thomas E Will...</td>\n",
       "      <td>{'tags': [{'text': 'University', 'label': 'ins...</td>\n",
       "    </tr>\n",
       "    <tr>\n",
       "      <td>acd720f6-d70b-457b-ac1c-fb175f91bd9e</td>\n",
       "      <td>From: jgreen@amber (Joe Green)\\nSubject: Re: W...</td>\n",
       "      <td>{'tags': [], 'preset': 'preset'}</td>\n",
       "    </tr>\n",
       "    <tr>\n",
       "      <td>c34a56dc-a053-4cfe-8606-498087d49e79</td>\n",
       "      <td>From: jcm@head-cfa.harvard.edu (Jonathan McDow...</td>\n",
       "      <td>{'tags': [], 'preset': 'preset'}</td>\n",
       "    </tr>\n",
       "    <tr>\n",
       "      <td>...</td>\n",
       "      <td>...</td>\n",
       "      <td>...</td>\n",
       "    </tr>\n",
       "    <tr>\n",
       "      <td>47d62545-3a21-402c-83a6-7a590981d06c</td>\n",
       "      <td>From: jim.zisfein@factory.com (Jim Zisfein) \\n...</td>\n",
       "      <td>{'tags': [], 'preset': 'preset'}</td>\n",
       "    </tr>\n",
       "    <tr>\n",
       "      <td>829cde95-4d2d-4b85-ad15-0d062832b4dc</td>\n",
       "      <td>From: ebodin@pearl.tufts.edu\\nSubject: Screen ...</td>\n",
       "      <td>{'tags': [{'text': 'University', 'label': 'ins...</td>\n",
       "    </tr>\n",
       "    <tr>\n",
       "      <td>3b96eff1-8ba6-4d98-9c11-49e661230a20</td>\n",
       "      <td>From: westes@netcom.com (Will Estes)\\nSubject:...</td>\n",
       "      <td>{'tags': [], 'preset': 'preset'}</td>\n",
       "    </tr>\n",
       "    <tr>\n",
       "      <td>952f8e26-e817-4bb2-ab84-243e43bcf094</td>\n",
       "      <td>From: steve@hcrlgw (Steven Collins)\\nSubject: ...</td>\n",
       "      <td>{'tags': [], 'preset': 'preset'}</td>\n",
       "    </tr>\n",
       "    <tr>\n",
       "      <td>39ce49c8-ac3e-4310-9c8f-9f29f2a18f86</td>\n",
       "      <td>From: gunning@cco.caltech.edu (Kevin J. Gunnin...</td>\n",
       "      <td>{'tags': [], 'preset': 'preset'}</td>\n",
       "    </tr>\n",
       "  </tbody>\n",
       "</table>\n",
       "<p>11314 rows × 2 columns</p>\n",
       "</div>"
      ],
      "text/plain": [
       "                                                                                   text  \\\n",
       "special_id                                                                                \n",
       "f7ec2c6f-046a-469f-a18a-d4a0540af07b  From: lerxst@wam.umd.edu (where's my thing)\\nS...   \n",
       "4c2eecd7-39f4-4d7c-b586-a7c7803a74c0  From: guykuo@carson.u.washington.edu (Guy Kuo)...   \n",
       "a96d71fa-47d4-474a-b835-6078761865d7  From: twillis@ec.ecn.purdue.edu (Thomas E Will...   \n",
       "acd720f6-d70b-457b-ac1c-fb175f91bd9e  From: jgreen@amber (Joe Green)\\nSubject: Re: W...   \n",
       "c34a56dc-a053-4cfe-8606-498087d49e79  From: jcm@head-cfa.harvard.edu (Jonathan McDow...   \n",
       "...                                                                                 ...   \n",
       "47d62545-3a21-402c-83a6-7a590981d06c  From: jim.zisfein@factory.com (Jim Zisfein) \\n...   \n",
       "829cde95-4d2d-4b85-ad15-0d062832b4dc  From: ebodin@pearl.tufts.edu\\nSubject: Screen ...   \n",
       "3b96eff1-8ba6-4d98-9c11-49e661230a20  From: westes@netcom.com (Will Estes)\\nSubject:...   \n",
       "952f8e26-e817-4bb2-ab84-243e43bcf094  From: steve@hcrlgw (Steven Collins)\\nSubject: ...   \n",
       "39ce49c8-ac3e-4310-9c8f-9f29f2a18f86  From: gunning@cco.caltech.edu (Kevin J. Gunnin...   \n",
       "\n",
       "                                                                                  guess  \n",
       "special_id                                                                               \n",
       "f7ec2c6f-046a-469f-a18a-d4a0540af07b  {'tags': [{'text': 'University', 'label': 'ins...  \n",
       "4c2eecd7-39f4-4d7c-b586-a7c7803a74c0  {'tags': [{'text': 'University', 'label': 'ins...  \n",
       "a96d71fa-47d4-474a-b835-6078761865d7  {'tags': [{'text': 'University', 'label': 'ins...  \n",
       "acd720f6-d70b-457b-ac1c-fb175f91bd9e                   {'tags': [], 'preset': 'preset'}  \n",
       "c34a56dc-a053-4cfe-8606-498087d49e79                   {'tags': [], 'preset': 'preset'}  \n",
       "...                                                                                 ...  \n",
       "47d62545-3a21-402c-83a6-7a590981d06c                   {'tags': [], 'preset': 'preset'}  \n",
       "829cde95-4d2d-4b85-ad15-0d062832b4dc  {'tags': [{'text': 'University', 'label': 'ins...  \n",
       "3b96eff1-8ba6-4d98-9c11-49e661230a20                   {'tags': [], 'preset': 'preset'}  \n",
       "952f8e26-e817-4bb2-ab84-243e43bcf094                   {'tags': [], 'preset': 'preset'}  \n",
       "39ce49c8-ac3e-4310-9c8f-9f29f2a18f86                   {'tags': [], 'preset': 'preset'}  \n",
       "\n",
       "[11314 rows x 2 columns]"
      ]
     },
     "execution_count": 6,
     "metadata": {},
     "output_type": "execute_result"
    }
   ],
   "source": [
    "df"
   ]
  },
  {
   "cell_type": "markdown",
   "metadata": {},
   "source": [
    "## Run service"
   ]
  },
  {
   "cell_type": "markdown",
   "metadata": {},
   "source": [
    "### Service with preset tags"
   ]
  },
  {
   "cell_type": "code",
   "execution_count": 7,
   "metadata": {},
   "outputs": [],
   "source": [
    "app = NERTask.from_df(df, text_col=\"text\", options=[\"institution\", \"company\", \"name\"], preset_tag_col=\"guess\")"
   ]
  },
  {
   "cell_type": "markdown",
   "metadata": {},
   "source": [
    "### Service without preset tags"
   ]
  },
  {
   "cell_type": "code",
   "execution_count": 10,
   "metadata": {},
   "outputs": [],
   "source": [
    "app = NERTask.from_df(df, text_col=\"text\", options=[\"institution\", \"company\", \"name\"])"
   ]
  },
  {
   "cell_type": "code",
   "execution_count": 11,
   "metadata": {},
   "outputs": [
    {
     "name": "stdout",
     "output_type": "stream",
     "text": [
      " * Serving Flask app \"task_NER_210901_105527\" (lazy loading)\n",
      " * Environment: production\n",
      "   WARNING: This is a development server. Do not use it in a production deployment.\n",
      "   Use a production WSGI server instead.\n",
      " * Debug mode: off\n"
     ]
    },
    {
     "name": "stderr",
     "output_type": "stream",
     "text": [
      " * Running on http://0.0.0.0:5001/ (Press CTRL+C to quit)\n",
      "127.0.0.1 - - [01/Sep/2021 10:55:38] \"\u001b[37mGET /admin HTTP/1.1\u001b[0m\" 200 -\n",
      "127.0.0.1 - - [01/Sep/2021 10:55:38] \"\u001b[37mPOST /get_options HTTP/1.1\u001b[0m\" 200 -\n",
      "127.0.0.1 - - [01/Sep/2021 10:55:38] \"\u001b[37mPOST /stats HTTP/1.1\u001b[0m\" 200 -\n",
      "127.0.0.1 - - [01/Sep/2021 10:55:42] \"\u001b[37mGET /?index=3 HTTP/1.1\u001b[0m\" 200 -\n",
      "127.0.0.1 - - [01/Sep/2021 10:55:43] \"\u001b[37mPOST /data HTTP/1.1\u001b[0m\" 200 -\n",
      "127.0.0.1 - - [01/Sep/2021 10:55:43] \"\u001b[37mGET /personal_history?user_id=2fe81aa184 HTTP/1.1\u001b[0m\" 200 -\n",
      "127.0.0.1 - - [01/Sep/2021 10:55:56] \"\u001b[37mPOST /tagging HTTP/1.1\u001b[0m\" 200 -\n",
      "127.0.0.1 - - [01/Sep/2021 10:55:56] \"\u001b[37mGET / HTTP/1.1\u001b[0m\" 200 -\n",
      "127.0.0.1 - - [01/Sep/2021 10:55:56] \"\u001b[37mPOST /data HTTP/1.1\u001b[0m\" 200 -\n",
      "127.0.0.1 - - [01/Sep/2021 10:55:56] \"\u001b[37mGET /personal_history?user_id=2fe81aa184 HTTP/1.1\u001b[0m\" 200 -\n",
      "127.0.0.1 - - [01/Sep/2021 10:56:01] \"\u001b[37mPOST /data HTTP/1.1\u001b[0m\" 200 -\n"
     ]
    }
   ],
   "source": [
    "app.run(\"0.0.0.0\", port=5001)"
   ]
  }
 ],
 "metadata": {
  "kernelspec": {
   "display_name": "Python 3",
   "language": "python",
   "name": "python3"
  },
  "language_info": {
   "codemirror_mode": {
    "name": "ipython",
    "version": 3
   },
   "file_extension": ".py",
   "mimetype": "text/x-python",
   "name": "python",
   "nbconvert_exporter": "python",
   "pygments_lexer": "ipython3",
   "version": "3.7.4"
  },
  "toc": {
   "base_numbering": 1,
   "nav_menu": {},
   "number_sections": true,
   "sideBar": true,
   "skip_h1_title": false,
   "title_cell": "Table of Contents",
   "title_sidebar": "Contents",
   "toc_cell": false,
   "toc_position": {},
   "toc_section_display": true,
   "toc_window_display": false
  }
 },
 "nbformat": 4,
 "nbformat_minor": 4
}
