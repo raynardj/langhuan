{
 "cells": [
  {
   "cell_type": "markdown",
   "metadata": {},
   "source": [
    "# Ways to load NER dataset"
   ]
  },
  {
   "cell_type": "markdown",
   "metadata": {},
   "source": [
    "## For huggingface tokenizer\n",
    "> If you're using huggingface tokenizer, most of the preprocessing can be automated into the following way\n",
    "\n",
    "First we are loading a tokenizer"
   ]
  },
  {
   "cell_type": "code",
   "execution_count": 1,
   "metadata": {},
   "outputs": [],
   "source": [
    "from transformers import AutoTokenizer\n",
    "tk = AutoTokenizer.from_pretrained(\"bert-base-uncased\", use_fast=True)"
   ]
  },
  {
   "cell_type": "markdown",
   "metadata": {},
   "source": [
    "Load the downloaded data with pre-designed pipeline"
   ]
  },
  {
   "cell_type": "code",
   "execution_count": 2,
   "metadata": {},
   "outputs": [],
   "source": [
    "from langhuan.loaders import load_ner_data_pytorch_huggingface"
   ]
  },
  {
   "cell_type": "markdown",
   "metadata": {},
   "source": [
    "This step will return a dataset"
   ]
  },
  {
   "cell_type": "code",
   "execution_count": 4,
   "metadata": {},
   "outputs": [],
   "source": [
    "data_ds = load_ner_data_pytorch_huggingface(\n",
    "    \"ner_result_sample.json\", # your label result\n",
    "    tk, # your tokenizer\n",
    ")"
   ]
  },
  {
   "cell_type": "markdown",
   "metadata": {},
   "source": [
    "Get a data_loader, this function will save you the effort to specify ```collate_fn```"
   ]
  },
  {
   "cell_type": "code",
   "execution_count": 5,
   "metadata": {},
   "outputs": [],
   "source": [
    "data_loader = data_ds.get_data_loader(batch_size=3, num_workers=2)"
   ]
  },
  {
   "cell_type": "markdown",
   "metadata": {},
   "source": [
    "Split 1 dataset into train/ valid"
   ]
  },
  {
   "cell_type": "code",
   "execution_count": 6,
   "metadata": {},
   "outputs": [
    {
     "data": {
      "text/plain": [
       "(5, 3)"
      ]
     },
     "execution_count": 6,
     "metadata": {},
     "output_type": "execute_result"
    }
   ],
   "source": [
    "train_ds, val_ds = data_ds.split_train_valid(valid_ratio=.2)\n",
    "len(train_ds), len(val_ds)"
   ]
  },
  {
   "cell_type": "markdown",
   "metadata": {},
   "source": [
    "## Test a sample of x, y"
   ]
  },
  {
   "cell_type": "code",
   "execution_count": 8,
   "metadata": {},
   "outputs": [],
   "source": [
    "batch = data_ds.one_batch(5)"
   ]
  },
  {
   "cell_type": "code",
   "execution_count": 10,
   "metadata": {},
   "outputs": [
    {
     "data": {
      "text/plain": [
       "(tensor([[ 101, 2013, 1024,  ...,    0,    0,    0],\n",
       "         [ 101, 2013, 1024,  ...,    0,    0,    0],\n",
       "         [ 101, 2013, 1024,  ...,    0,    0,    0],\n",
       "         [ 101, 2013, 1024,  ...,    0,    0,    0],\n",
       "         [ 101, 2013, 1024,  ..., 1007, 1012,  102]]),\n",
       " tensor([[0, 0, 0,  ..., 0, 0, 0],\n",
       "         [0, 0, 0,  ..., 0, 0, 0],\n",
       "         [0, 0, 0,  ..., 0, 0, 0],\n",
       "         [0, 0, 0,  ..., 0, 0, 0],\n",
       "         [0, 0, 0,  ..., 0, 0, 0]]))"
      ]
     },
     "execution_count": 10,
     "metadata": {},
     "output_type": "execute_result"
    }
   ],
   "source": [
    "x = batch[\"input_ids\"]\n",
    "y = batch[\"targets\"]\n",
    "x, y"
   ]
  },
  {
   "cell_type": "markdown",
   "metadata": {},
   "source": [
    "Here we left the slicing configuration to the hands of users"
   ]
  },
  {
   "cell_type": "code",
   "execution_count": 11,
   "metadata": {},
   "outputs": [
    {
     "data": {
      "text/plain": [
       "(torch.Size([5, 838]), torch.Size([5, 838]))"
      ]
     },
     "execution_count": 11,
     "metadata": {},
     "output_type": "execute_result"
    }
   ],
   "source": [
    "x.shape, y.shape"
   ]
  },
  {
   "cell_type": "markdown",
   "metadata": {},
   "source": [
    "## Convert x, y back to NER tags\n",
    "This also works for predicted y\n",
    "\n",
    "Make sure both x and y tensors are:\n",
    "* torch.LongTenser\n",
    "* in cpu, not cuda  "
   ]
  },
  {
   "cell_type": "code",
   "execution_count": 12,
   "metadata": {},
   "outputs": [
    {
     "data": {
      "text/plain": [
       "[{'row_id': 0,\n",
       "  'token_id': 68,\n",
       "  'text': 'university of washington',\n",
       "  'label': 'school'},\n",
       " {'row_id': 0, 'token_id': 97, 'text': 'si', 'label': 'company'},\n",
       " {'row_id': 1,\n",
       "  'token_id': 27,\n",
       "  'text': 'harris computer systems division',\n",
       "  'label': 'company'},\n",
       " {'row_id': 1,\n",
       "  'token_id': 205,\n",
       "  'text': 'harris corporation',\n",
       "  'label': 'company'},\n",
       " {'row_id': 3,\n",
       "  'token_id': 51,\n",
       "  'text': 'university of chicago',\n",
       "  'label': 'school'},\n",
       " {'row_id': 4,\n",
       "  'token_id': 34,\n",
       "  'text': 'new mexico state university',\n",
       "  'label': 'school'},\n",
       " {'row_id': 4, 'token_id': 565, 'text': 'ibm', 'label': 'company'},\n",
       " {'row_id': 4, 'token_id': 633, 'text': 'ibm', 'label': 'company'},\n",
       " {'row_id': 4, 'token_id': 655, 'text': 'quadra', 'label': 'company'},\n",
       " {'row_id': 4, 'token_id': 664, 'text': 'apple', 'label': 'company'},\n",
       " {'row_id': 4, 'token_id': 809, 'text': 'quadra', 'label': 'company'},\n",
       " {'row_id': 4, 'token_id': 821, 'text': 'digital review', 'label': 'company'}]"
      ]
     },
     "execution_count": 12,
     "metadata": {},
     "output_type": "execute_result"
    }
   ],
   "source": [
    "data_ds.decode(x, y)"
   ]
  },
  {
   "cell_type": "markdown",
   "metadata": {},
   "source": [
    "## Tensorflow:\n",
    "> Development pending, [check here](https://github.com/raynardj/langhuan) to help"
   ]
  }
 ],
 "metadata": {
  "kernelspec": {
   "display_name": "Python 3",
   "language": "python",
   "name": "python3"
  },
  "language_info": {
   "codemirror_mode": {
    "name": "ipython",
    "version": 3
   },
   "file_extension": ".py",
   "mimetype": "text/x-python",
   "name": "python",
   "nbconvert_exporter": "python",
   "pygments_lexer": "ipython3",
   "version": "3.7.4"
  },
  "toc": {
   "base_numbering": 1,
   "nav_menu": {},
   "number_sections": true,
   "sideBar": true,
   "skip_h1_title": false,
   "title_cell": "Table of Contents",
   "title_sidebar": "Contents",
   "toc_cell": false,
   "toc_position": {},
   "toc_section_display": true,
   "toc_window_display": false
  }
 },
 "nbformat": 4,
 "nbformat_minor": 4
}
