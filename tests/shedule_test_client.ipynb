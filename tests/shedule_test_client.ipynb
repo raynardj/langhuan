{
 "cells": [
  {
   "cell_type": "markdown",
   "metadata": {},
   "source": [
    "# Client side of schedule test"
   ]
  },
  {
   "cell_type": "code",
   "execution_count": 1,
   "metadata": {},
   "outputs": [],
   "source": [
    "from forgebox.imports import *"
   ]
  },
  {
   "cell_type": "code",
   "execution_count": 2,
   "metadata": {},
   "outputs": [],
   "source": [
    "import requests\n",
    "from tqdm.notebook import tqdm\n",
    "from datetime import datetime\n",
    "import random"
   ]
  },
  {
   "cell_type": "code",
   "execution_count": 3,
   "metadata": {},
   "outputs": [],
   "source": [
    "def now():\n",
    "    return datetime.now().strftime(\"%Y%m%d_%H%M%S\")"
   ]
  },
  {
   "cell_type": "code",
   "execution_count": 4,
   "metadata": {},
   "outputs": [],
   "source": [
    "END = \"http://localhost:5566/\""
   ]
  },
  {
   "cell_type": "code",
   "execution_count": 5,
   "metadata": {},
   "outputs": [],
   "source": [
    "r = requests.post(f\"{END}data\", json={\"user_id\":\"test_user\", \"index\":-1})"
   ]
  },
  {
   "cell_type": "code",
   "execution_count": 6,
   "metadata": {},
   "outputs": [],
   "source": [
    "def random_user():\n",
    "    return random.choice([\"felix\", \"ralph\", \"gru\"])\n",
    "\n",
    "def random_tf():\n",
    "    return random.choice([True, False])"
   ]
  },
  {
   "cell_type": "code",
   "execution_count": 10,
   "metadata": {},
   "outputs": [
    {
     "data": {
      "application/vnd.jupyter.widget-view+json": {
       "model_id": "8f08b01cb3cc42bb9f8e38f33b33f987",
       "version_major": 2,
       "version_minor": 0
      },
      "text/plain": [
       "HBox(children=(FloatProgress(value=0.0, max=500.0), HTML(value='')))"
      ]
     },
     "metadata": {},
     "output_type": "display_data"
    },
    {
     "name": "stdout",
     "output_type": "stream",
     "text": [
      "\n",
      "progress by ner\n",
      "{'so_far': 1000}\n"
     ]
    }
   ],
   "source": [
    "tg_result = []\n",
    "for i in tqdm(range(500)):\n",
    "    user = random_user()\n",
    "    r = requests.post(f\"{END}data\", json={\"user_id\":user, \"index\":-1})\n",
    "    data = r.json()\n",
    "    index = data[\"index\"]\n",
    "    tgdata = dict(index=index, user_id=user,now=now(), skipped= random_tf(),\n",
    "                  tags=[{\"offset\":100,\n",
    "                         'text': \"abcde\",\"label\":\"test_label\", \"user_idx\":user}])\n",
    "    r2 = requests.post(f\"{END}tagging\", json=tgdata)\n",
    "    tg_result.append(r2)\n",
    "    \n",
    "print(\"progress by ner\")\n",
    "print(requests.get(f\"{END}save_progress\",).json())"
   ]
  },
  {
   "cell_type": "code",
   "execution_count": 11,
   "metadata": {},
   "outputs": [
    {
     "name": "stdout",
     "output_type": "stream",
     "text": [
      "progress by ner\n",
      "{'so_far': 1000}\n"
     ]
    }
   ],
   "source": [
    "print(\"progress by ner\")\n",
    "print(requests.get(f\"{END}save_progress\",).json())"
   ]
  },
  {
   "cell_type": "code",
   "execution_count": 12,
   "metadata": {},
   "outputs": [],
   "source": [
    "from langhuan.history import combine_history"
   ]
  },
  {
   "cell_type": "code",
   "execution_count": 13,
   "metadata": {},
   "outputs": [
    {
     "name": "stdout",
     "output_type": "stream",
     "text": [
      "history_210908_183702_5c302d.json     history_210908_183706_e774d3.json\r\n",
      "history_210908_183703_052009.json     history_210908_183706_f9996e.json\r\n",
      "history_210908_183703_13bd44.json     history_210908_183706_ff8c7a.json\r\n",
      "history_210908_183703_243444.json     history_210908_183707_12bf6a.json\r\n",
      "history_210908_183703_2cf46d.json     history_210908_183707_1a85e7.json\r\n",
      "history_210908_183703_32f7cf.json     history_210908_183707_329fff.json\r\n",
      "history_210908_183703_4ff775.json     history_210908_183707_498fe1.json\r\n",
      "history_210908_183703_708cdd.json     history_210908_183707_4cbdd4.json\r\n",
      "history_210908_183703_708d36.json     history_210908_183707_6b1498.json\r\n",
      "history_210908_183703_83d97d.json     history_210908_183707_877895.json\r\n",
      "history_210908_183703_9dc392.json     history_210908_183707_d0cf9f.json\r\n",
      "history_210908_183703_a606c4.json     history_210908_183707_d4005c.json\r\n",
      "history_210908_183703_bb1335.json     history_210908_183707_f7195d.json\r\n",
      "history_210908_183703_c6bd77.json     history_210908_183708_22fcc5.json\r\n",
      "history_210908_183703_f31911.json     history_210908_183708_469eba.json\r\n",
      "history_210908_183703_fc190a.json     history_210908_183708_552224.json\r\n",
      "history_210908_183704_058eb2.json     history_210908_183708_7567e9.json\r\n",
      "history_210908_183704_0880fc.json     history_210908_183708_775455.json\r\n",
      "history_210908_183704_0fc3ae.json     history_210908_183708_9113a5.json\r\n",
      "history_210908_183704_1c0e82.json     history_210908_183708_9531d0.json\r\n",
      "history_210908_183704_2069f1.json     history_210908_183708_abfd71.json\r\n",
      "history_210908_183704_277519.json     history_210908_183708_bb67a6.json\r\n",
      "history_210908_183704_4bd0d8.json     history_210908_183708_be6c38.json\r\n",
      "history_210908_183704_5b327c.json     history_210908_183708_c4892c.json\r\n",
      "history_210908_183704_9c7869.json     history_210908_183708_e8d6d4.json\r\n",
      "history_210908_183704_a077a9.json     history_210908_183708_eba8ea.json\r\n",
      "history_210908_183704_daa784.json     history_210908_183708_fc1e76.json\r\n",
      "history_210908_183704_edb7a2.json     history_210908_183709_278533.json\r\n",
      "history_210908_183704_f4ed81.json     history_210908_183709_2b7b40.json\r\n",
      "history_210908_183704_fa671b.json     history_210908_183709_6e4d96.json\r\n",
      "history_210908_183704_fcdf4b.json     history_210908_183709_816df0.json\r\n",
      "history_210908_183705_10a5c9.json     history_210908_183709_886252.json\r\n",
      "history_210908_183705_375de4.json     history_210908_183709_903729.json\r\n",
      "history_210908_183705_40e137.json     history_210908_183709_903f3b.json\r\n",
      "history_210908_183705_63be9c.json     history_210908_183709_b68f33.json\r\n",
      "history_210908_183706_12036f.json     history_210908_183709_d5d3e5.json\r\n",
      "history_210908_183706_1390a1.json     history_210908_183709_e293e8.json\r\n",
      "history_210908_183706_14f036.json     history_210908_183709_f5dd51.json\r\n",
      "history_210908_183706_328d2e.json     history_210908_183710_046803.json\r\n",
      "history_210908_183706_33552e.json     history_210908_183710_1413bd.json\r\n",
      "history_210908_183706_3c6a93.json     history_210908_183710_2df769.json\r\n",
      "history_210908_183706_45675c.json     history_210908_183710_3303ca.json\r\n",
      "history_210908_183706_57eaaa.json     history_210908_183710_348efe.json\r\n",
      "history_210908_183706_61a507.json     history_210908_183710_3cf87a.json\r\n",
      "history_210908_183706_818b54.json     history_210908_183710_8b0125.json\r\n",
      "history_210908_183706_84ccb3.json     history_210908_183710_8b7c26.json\r\n",
      "history_210908_183706_890a1f.json     history_210908_183710_d080f2.json\r\n",
      "history_210908_183706_914426.json     history_210908_183710_d5d787.json\r\n",
      "history_210908_183706_92f797.json     history_210908_183710_e45d52.json\r\n",
      "history_210908_183706_a2cac5.json     history_210908_183711_3df016.json\r\n",
      "history_210908_183706_a51a71.json     history_combined_20210908_183654.json\r\n",
      "history_210908_183706_e2bf78.json\r\n"
     ]
    }
   ],
   "source": [
    "!ls ~/.cache/langhuan/test_case"
   ]
  },
  {
   "cell_type": "code",
   "execution_count": 14,
   "metadata": {},
   "outputs": [
    {
     "name": "stderr",
     "output_type": "stream",
     "text": [
      "/Users/xiaochen.zhang/github/langhuan/langhuan/history.py:67: FutureWarning: Sorting because non-concatenation axis is not aligned. A future version\n",
      "of pandas will change to not sort by default.\n",
      "\n",
      "To accept the future behavior, pass 'sort=False'.\n",
      "\n",
      "To retain the current behavior and silence the warning, pass 'sort=True'.\n",
      "\n",
      "  history_df = pd.concat(list(map(history_from_json, HISTORY_FILES)))\\\n"
     ]
    }
   ],
   "source": [
    "new_history = combine_history(Path(\"/Users/xiaochen.zhang/.cache/langhuan/test_case\"))"
   ]
  },
  {
   "cell_type": "code",
   "execution_count": 15,
   "metadata": {},
   "outputs": [],
   "source": [
    "df = pd.read_json(new_history)"
   ]
  },
  {
   "cell_type": "code",
   "execution_count": 74,
   "metadata": {},
   "outputs": [
    {
     "data": {
      "text/html": [
       "<div>\n",
       "<style scoped>\n",
       "    .dataframe tbody tr th:only-of-type {\n",
       "        vertical-align: middle;\n",
       "    }\n",
       "\n",
       "    .dataframe tbody tr th {\n",
       "        vertical-align: top;\n",
       "    }\n",
       "\n",
       "    .dataframe thead th {\n",
       "        text-align: right;\n",
       "    }\n",
       "</style>\n",
       "<table border=\"1\" class=\"dataframe\">\n",
       "  <thead>\n",
       "    <tr style=\"text-align: right;\">\n",
       "      <th></th>\n",
       "      <th>pandas</th>\n",
       "    </tr>\n",
       "  </thead>\n",
       "  <tbody>\n",
       "    <tr>\n",
       "      <td>i_180</td>\n",
       "      <td>2</td>\n",
       "    </tr>\n",
       "    <tr>\n",
       "      <td>i_448</td>\n",
       "      <td>2</td>\n",
       "    </tr>\n",
       "    <tr>\n",
       "      <td>i_364</td>\n",
       "      <td>2</td>\n",
       "    </tr>\n",
       "    <tr>\n",
       "      <td>i_291</td>\n",
       "      <td>2</td>\n",
       "    </tr>\n",
       "    <tr>\n",
       "      <td>i_166</td>\n",
       "      <td>2</td>\n",
       "    </tr>\n",
       "    <tr>\n",
       "      <td>...</td>\n",
       "      <td>...</td>\n",
       "    </tr>\n",
       "    <tr>\n",
       "      <td>i_344</td>\n",
       "      <td>1</td>\n",
       "    </tr>\n",
       "    <tr>\n",
       "      <td>i_64</td>\n",
       "      <td>1</td>\n",
       "    </tr>\n",
       "    <tr>\n",
       "      <td>i_52</td>\n",
       "      <td>1</td>\n",
       "    </tr>\n",
       "    <tr>\n",
       "      <td>i_89</td>\n",
       "      <td>1</td>\n",
       "    </tr>\n",
       "    <tr>\n",
       "      <td>i_420</td>\n",
       "      <td>1</td>\n",
       "    </tr>\n",
       "  </tbody>\n",
       "</table>\n",
       "<p>430 rows × 1 columns</p>\n",
       "</div>"
      ],
      "text/plain": [
       "       pandas\n",
       "i_180       2\n",
       "i_448       2\n",
       "i_364       2\n",
       "i_291       2\n",
       "i_166       2\n",
       "...       ...\n",
       "i_344       1\n",
       "i_64        1\n",
       "i_52        1\n",
       "i_89        1\n",
       "i_420       1\n",
       "\n",
       "[430 rows x 1 columns]"
      ]
     },
     "execution_count": 74,
     "metadata": {},
     "output_type": "execute_result"
    }
   ],
   "source": [
    "df.vc(\"pandas\")"
   ]
  },
  {
   "cell_type": "markdown",
   "metadata": {},
   "source": []
  }
 ],
 "metadata": {
  "kernelspec": {
   "display_name": "Python 3",
   "language": "python",
   "name": "python3"
  },
  "language_info": {
   "codemirror_mode": {
    "name": "ipython",
    "version": 3
   },
   "file_extension": ".py",
   "mimetype": "text/x-python",
   "name": "python",
   "nbconvert_exporter": "python",
   "pygments_lexer": "ipython3",
   "version": "3.7.4"
  },
  "toc": {
   "base_numbering": 1,
   "nav_menu": {},
   "number_sections": true,
   "sideBar": true,
   "skip_h1_title": false,
   "title_cell": "Table of Contents",
   "title_sidebar": "Contents",
   "toc_cell": false,
   "toc_position": {},
   "toc_section_display": true,
   "toc_window_display": false
  }
 },
 "nbformat": 4,
 "nbformat_minor": 4
}
