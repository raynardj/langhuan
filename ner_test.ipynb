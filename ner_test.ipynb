{
 "cells": [
  {
   "cell_type": "markdown",
   "metadata": {},
   "source": [
    "# NER labeling test"
   ]
  },
  {
   "cell_type": "code",
   "execution_count": 1,
   "metadata": {},
   "outputs": [],
   "source": [
    "from langhuan import NERTask\n",
    "from forgebox.imports import *"
   ]
  },
  {
   "cell_type": "code",
   "execution_count": 2,
   "metadata": {},
   "outputs": [],
   "source": [
    "from sklearn.datasets import fetch_20newsgroups"
   ]
  },
  {
   "cell_type": "code",
   "execution_count": 3,
   "metadata": {},
   "outputs": [],
   "source": [
    "news20 = fetch_20newsgroups()"
   ]
  },
  {
   "cell_type": "code",
   "execution_count": 4,
   "metadata": {},
   "outputs": [],
   "source": [
    "df = pd.DataFrame(dict(text=news20['data']))"
   ]
  },
  {
   "cell_type": "code",
   "execution_count": 5,
   "metadata": {},
   "outputs": [
    {
     "data": {
      "text/html": [
       "<div>\n",
       "<style scoped>\n",
       "    .dataframe tbody tr th:only-of-type {\n",
       "        vertical-align: middle;\n",
       "    }\n",
       "\n",
       "    .dataframe tbody tr th {\n",
       "        vertical-align: top;\n",
       "    }\n",
       "\n",
       "    .dataframe thead th {\n",
       "        text-align: right;\n",
       "    }\n",
       "</style>\n",
       "<table border=\"1\" class=\"dataframe\">\n",
       "  <thead>\n",
       "    <tr style=\"text-align: right;\">\n",
       "      <th></th>\n",
       "      <th>text</th>\n",
       "    </tr>\n",
       "  </thead>\n",
       "  <tbody>\n",
       "    <tr>\n",
       "      <th>0</th>\n",
       "      <td>From: lerxst@wam.umd.edu (where's my thing)\\nS...</td>\n",
       "    </tr>\n",
       "    <tr>\n",
       "      <th>1</th>\n",
       "      <td>From: guykuo@carson.u.washington.edu (Guy Kuo)...</td>\n",
       "    </tr>\n",
       "    <tr>\n",
       "      <th>2</th>\n",
       "      <td>From: twillis@ec.ecn.purdue.edu (Thomas E Will...</td>\n",
       "    </tr>\n",
       "    <tr>\n",
       "      <th>3</th>\n",
       "      <td>From: jgreen@amber (Joe Green)\\nSubject: Re: W...</td>\n",
       "    </tr>\n",
       "    <tr>\n",
       "      <th>4</th>\n",
       "      <td>From: jcm@head-cfa.harvard.edu (Jonathan McDow...</td>\n",
       "    </tr>\n",
       "    <tr>\n",
       "      <th>...</th>\n",
       "      <td>...</td>\n",
       "    </tr>\n",
       "    <tr>\n",
       "      <th>11309</th>\n",
       "      <td>From: jim.zisfein@factory.com (Jim Zisfein) \\n...</td>\n",
       "    </tr>\n",
       "    <tr>\n",
       "      <th>11310</th>\n",
       "      <td>From: ebodin@pearl.tufts.edu\\nSubject: Screen ...</td>\n",
       "    </tr>\n",
       "    <tr>\n",
       "      <th>11311</th>\n",
       "      <td>From: westes@netcom.com (Will Estes)\\nSubject:...</td>\n",
       "    </tr>\n",
       "    <tr>\n",
       "      <th>11312</th>\n",
       "      <td>From: steve@hcrlgw (Steven Collins)\\nSubject: ...</td>\n",
       "    </tr>\n",
       "    <tr>\n",
       "      <th>11313</th>\n",
       "      <td>From: gunning@cco.caltech.edu (Kevin J. Gunnin...</td>\n",
       "    </tr>\n",
       "  </tbody>\n",
       "</table>\n",
       "<p>11314 rows × 1 columns</p>\n",
       "</div>"
      ],
      "text/plain": [
       "                                                    text\n",
       "0      From: lerxst@wam.umd.edu (where's my thing)\\nS...\n",
       "1      From: guykuo@carson.u.washington.edu (Guy Kuo)...\n",
       "2      From: twillis@ec.ecn.purdue.edu (Thomas E Will...\n",
       "3      From: jgreen@amber (Joe Green)\\nSubject: Re: W...\n",
       "4      From: jcm@head-cfa.harvard.edu (Jonathan McDow...\n",
       "...                                                  ...\n",
       "11309  From: jim.zisfein@factory.com (Jim Zisfein) \\n...\n",
       "11310  From: ebodin@pearl.tufts.edu\\nSubject: Screen ...\n",
       "11311  From: westes@netcom.com (Will Estes)\\nSubject:...\n",
       "11312  From: steve@hcrlgw (Steven Collins)\\nSubject: ...\n",
       "11313  From: gunning@cco.caltech.edu (Kevin J. Gunnin...\n",
       "\n",
       "[11314 rows x 1 columns]"
      ]
     },
     "execution_count": 5,
     "metadata": {},
     "output_type": "execute_result"
    }
   ],
   "source": [
    "df"
   ]
  },
  {
   "cell_type": "code",
   "execution_count": 6,
   "metadata": {},
   "outputs": [],
   "source": [
    "app = NERTask.from_df(df, text_col=\"text\", options=[\"pos\", \"neg\"])"
   ]
  },
  {
   "cell_type": "code",
   "execution_count": 7,
   "metadata": {},
   "outputs": [
    {
     "data": {
      "text/plain": [
       "'/Users/salvor/github/langhuan/langhuan/static'"
      ]
     },
     "execution_count": 7,
     "metadata": {},
     "output_type": "execute_result"
    }
   ],
   "source": [
    "app.static_folder"
   ]
  },
  {
   "cell_type": "code",
   "execution_count": null,
   "metadata": {},
   "outputs": [
    {
     "name": "stdout",
     "output_type": "stream",
     "text": [
      " * Serving Flask app \"task_NER_<function now_str at 0x1100cf050>\" (lazy loading)\n",
      " * Environment: production\n",
      "\u001b[31m   WARNING: This is a development server. Do not use it in a production deployment.\u001b[0m\n",
      "\u001b[2m   Use a production WSGI server instead.\u001b[0m\n",
      " * Debug mode: off\n"
     ]
    },
    {
     "name": "stderr",
     "output_type": "stream",
     "text": [
      " * Running on http://0.0.0.0:5000/ (Press CTRL+C to quit)\n",
      "127.0.0.1 - - [15/Jan/2021 23:45:28] \"\u001b[37mGET /latest HTTP/1.1\u001b[0m\" 200 -\n",
      "127.0.0.1 - - [15/Jan/2021 23:45:28] \"\u001b[37mGET /latest HTTP/1.1\u001b[0m\" 200 -\n",
      "127.0.0.1 - - [15/Jan/2021 23:45:32] \"\u001b[37mGET / HTTP/1.1\u001b[0m\" 200 -\n",
      "127.0.0.1 - - [15/Jan/2021 23:45:32] \"\u001b[37mGET /static/js/jquery.min.js HTTP/1.1\u001b[0m\" 200 -\n",
      "127.0.0.1 - - [15/Jan/2021 23:45:32] \"\u001b[37mGET /static/css/bootstrap.css HTTP/1.1\u001b[0m\" 200 -\n",
      "127.0.0.1 - - [15/Jan/2021 23:45:32] \"\u001b[37mGET /static/js/bootstrap.min.js HTTP/1.1\u001b[0m\" 200 -\n",
      "127.0.0.1 - - [15/Jan/2021 23:45:32] \"\u001b[37mGET /static/js/popper.min.js HTTP/1.1\u001b[0m\" 200 -\n",
      "127.0.0.1 - - [15/Jan/2021 23:45:32] \"\u001b[37mGET /static/js/d3.js HTTP/1.1\u001b[0m\" 200 -\n",
      "127.0.0.1 - - [15/Jan/2021 23:45:32] \"\u001b[33mGET /static/js/bootstrap.min.js.map HTTP/1.1\u001b[0m\" 404 -\n",
      "127.0.0.1 - - [15/Jan/2021 23:45:32] \"\u001b[33mGET /static/js/popper.min.js.map HTTP/1.1\u001b[0m\" 404 -\n",
      "127.0.0.1 - - [15/Jan/2021 23:45:33] \"\u001b[37mGET /static/css/bootstrap.css.map HTTP/1.1\u001b[0m\" 200 -\n",
      "127.0.0.1 - - [15/Jan/2021 23:45:38] \"\u001b[37mPOST /tagging HTTP/1.1\u001b[0m\" 200 -\n",
      "127.0.0.1 - - [15/Jan/2021 23:45:38] \"\u001b[37mGET / HTTP/1.1\u001b[0m\" 200 -\n",
      "127.0.0.1 - - [15/Jan/2021 23:45:39] \"\u001b[37mGET /static/js/jquery.min.js HTTP/1.1\u001b[0m\" 200 -\n",
      "127.0.0.1 - - [15/Jan/2021 23:45:39] \"\u001b[37mGET /static/js/popper.min.js HTTP/1.1\u001b[0m\" 200 -\n",
      "127.0.0.1 - - [15/Jan/2021 23:45:39] \"\u001b[37mGET /static/js/bootstrap.min.js HTTP/1.1\u001b[0m\" 200 -\n",
      "127.0.0.1 - - [15/Jan/2021 23:45:39] \"\u001b[37mGET /static/css/bootstrap.css HTTP/1.1\u001b[0m\" 200 -\n",
      "127.0.0.1 - - [15/Jan/2021 23:45:39] \"\u001b[37mGET /static/js/d3.js HTTP/1.1\u001b[0m\" 200 -\n",
      "127.0.0.1 - - [15/Jan/2021 23:45:39] \"\u001b[33mGET /static/js/bootstrap.min.js.map HTTP/1.1\u001b[0m\" 404 -\n",
      "127.0.0.1 - - [15/Jan/2021 23:45:39] \"\u001b[33mGET /static/js/popper.min.js.map HTTP/1.1\u001b[0m\" 404 -\n",
      "127.0.0.1 - - [15/Jan/2021 23:45:39] \"\u001b[37mGET /static/css/bootstrap.css.map HTTP/1.1\u001b[0m\" 200 -\n",
      "127.0.0.1 - - [15/Jan/2021 23:45:42] \"\u001b[37mGET /latest HTTP/1.1\u001b[0m\" 200 -\n",
      "127.0.0.1 - - [15/Jan/2021 23:45:59] \"\u001b[37mPOST /tagging HTTP/1.1\u001b[0m\" 200 -\n",
      "127.0.0.1 - - [15/Jan/2021 23:45:59] \"\u001b[37mGET / HTTP/1.1\u001b[0m\" 200 -\n",
      "127.0.0.1 - - [15/Jan/2021 23:45:59] \"\u001b[37mGET /static/js/jquery.min.js HTTP/1.1\u001b[0m\" 200 -\n",
      "127.0.0.1 - - [15/Jan/2021 23:45:59] \"\u001b[37mGET /static/js/bootstrap.min.js HTTP/1.1\u001b[0m\" 200 -\n",
      "127.0.0.1 - - [15/Jan/2021 23:45:59] \"\u001b[37mGET /static/css/bootstrap.css HTTP/1.1\u001b[0m\" 200 -\n",
      "127.0.0.1 - - [15/Jan/2021 23:45:59] \"\u001b[37mGET /static/js/popper.min.js HTTP/1.1\u001b[0m\" 200 -\n",
      "127.0.0.1 - - [15/Jan/2021 23:45:59] \"\u001b[37mGET /static/js/d3.js HTTP/1.1\u001b[0m\" 200 -\n",
      "127.0.0.1 - - [15/Jan/2021 23:45:59] \"\u001b[33mGET /static/js/bootstrap.min.js.map HTTP/1.1\u001b[0m\" 404 -\n",
      "127.0.0.1 - - [15/Jan/2021 23:45:59] \"\u001b[33mGET /static/js/popper.min.js.map HTTP/1.1\u001b[0m\" 404 -\n",
      "127.0.0.1 - - [15/Jan/2021 23:45:59] \"\u001b[37mGET /static/css/bootstrap.css.map HTTP/1.1\u001b[0m\" 200 -\n",
      "127.0.0.1 - - [15/Jan/2021 23:46:05] \"\u001b[37mGET /latest HTTP/1.1\u001b[0m\" 200 -\n"
     ]
    }
   ],
   "source": [
    "app.run(\"0.0.0.0\")"
   ]
  },
  {
   "cell_type": "code",
   "execution_count": null,
   "metadata": {},
   "outputs": [],
   "source": []
  }
 ],
 "metadata": {
  "kernelspec": {
   "display_name": "Python 3",
   "language": "python",
   "name": "python3"
  },
  "language_info": {
   "codemirror_mode": {
    "name": "ipython",
    "version": 3
   },
   "file_extension": ".py",
   "mimetype": "text/x-python",
   "name": "python",
   "nbconvert_exporter": "python",
   "pygments_lexer": "ipython3",
   "version": "3.7.4"
  },
  "toc": {
   "base_numbering": 1,
   "nav_menu": {},
   "number_sections": true,
   "sideBar": true,
   "skip_h1_title": false,
   "title_cell": "Table of Contents",
   "title_sidebar": "Contents",
   "toc_cell": false,
   "toc_position": {},
   "toc_section_display": true,
   "toc_window_display": false
  }
 },
 "nbformat": 4,
 "nbformat_minor": 4
}
